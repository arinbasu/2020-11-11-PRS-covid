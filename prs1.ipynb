{
 "cells": [
  {
   "cell_type": "code",
   "execution_count": 1,
   "metadata": {},
   "outputs": [
    {
     "name": "stdout",
     "output_type": "stream",
     "text": [
      "CHR\tBP\tSNP\tA1\tA2\tN\tSE\tP\tOR\tINFO\tMAF\n",
      "1\t756604\trs3131962\tA\tG\t388028\t0.00301666\t0.483171\t0.997886915712657\t0.890557941364774\t0.369389592764921\n",
      "1\t768448\trs12562034\tA\tG\t388028\t0.00329472\t0.834808\t1.00068731609353\t0.895893511351165\t0.336845754096289\n",
      "1\t779322\trs4040617\tG\tA\t388028\t0.00303344\t0.42897\t0.997603556067569\t0.897508290615237\t0.377368010940814\n",
      "1\t801536\trs79373928\tG\tT\t388028\t0.00841324\t0.808999\t1.00203569922793\t0.908962856432993\t0.483212245374095\n",
      "1\t808631\trs11240779\tG\tA\t388028\t0.00242821\t0.590265\t1.00130832511154\t0.893212523690488\t0.450409558999587\n",
      "1\t809876\trs57181708\tG\tA\t388028\t0.00336785\t0.71475\t1.00123165786833\t0.923557624081969\t0.499743932656759\n",
      "1\t835499\trs4422948\tG\tA\t388028\t0.0023758\t0.710884\t0.999119752645202\t0.906437735120596\t0.481016005816168\n",
      "1\t838555\trs4970383\tA\tC\t388028\t0.00235773\t0.150993\t0.996619945289758\t0.907716506801574\t0.327164029672754\n",
      "1\t840753\trs4970382\tC\tT\t388028\t0.00207377\t0.199967\t0.99734567895614\t0.914602590137255\t0.498936220426316\n",
      "\n",
      "gzip: stdout: Broken pipe\n"
     ]
    }
   ],
   "source": [
    "# step 1 after downloading the txt.gz file\n",
    "gunzip -c Height.gwas.txt.gz | head"
   ]
  },
  {
   "cell_type": "code",
   "execution_count": 1,
   "metadata": {},
   "outputs": [],
   "source": [
    "gunzip -c Height.gwas.txt.gz |\\\n",
    "awk 'NR==1 || ($11 > 0.01) && ($10 > 0.8) {print}' |\\\n",
    "gzip  > Height.gz"
   ]
  },
  {
   "cell_type": "code",
   "execution_count": 2,
   "metadata": {},
   "outputs": [],
   "source": [
    "gunzip -c Height.gz |\\\n",
    "awk '{ print $3}' |\\\n",
    "sort |\\\n",
    "uniq -d > duplicated.snp"
   ]
  },
  {
   "cell_type": "code",
   "execution_count": 3,
   "metadata": {},
   "outputs": [],
   "source": [
    "gunzip -c Height.gz  |\\\n",
    "grep -vf duplicated.snp |\\\n",
    "gzip - > Height.nodup.gz"
   ]
  },
  {
   "cell_type": "code",
   "execution_count": 4,
   "metadata": {},
   "outputs": [],
   "source": [
    "gunzip -c Height.nodup.gz |\\\n",
    "awk '!( ($4==\"A\" && $5==\"T\") || \\\n",
    "        ($4==\"T\" && $5==\"A\") || \\\n",
    "        ($4==\"G\" && $5==\"C\") || \\\n",
    "        ($4==\"C\" && $5==\"G\")) {print}' |\\\n",
    "    gzip > Height.QC.gz"
   ]
  },
  {
   "cell_type": "markdown",
   "metadata": {},
   "source": [
    "Now we start the target data quality control"
   ]
  },
  {
   "cell_type": "code",
   "execution_count": 5,
   "metadata": {},
   "outputs": [
    {
     "name": "stdout",
     "output_type": "stream",
     "text": [
      "Archive:  EUR.zip\n",
      "  inflating: EUR.bed                 \n",
      "  inflating: EUR.bim                 \n",
      "  inflating: EUR.cov                 \n",
      "  inflating: EUR.fam                 \n",
      "  inflating: EUR.height              \n"
     ]
    }
   ],
   "source": [
    "unzip EUR.zip"
   ]
  },
  {
   "cell_type": "code",
   "execution_count": 6,
   "metadata": {},
   "outputs": [
    {
     "name": "stdout",
     "output_type": "stream",
     "text": [
      "PLINK v1.90b6.17 64-bit (28 Apr 2020)          www.cog-genomics.org/plink/1.9/\n",
      "(C) 2005-2020 Shaun Purcell, Christopher Chang   GNU General Public License v3\n",
      "Logging to EUR.QC.log.\n",
      "Options in effect:\n",
      "  --bfile EUR\n",
      "  --geno 0.01\n",
      "  --hwe 1e-6\n",
      "  --maf 0.01\n",
      "  --make-just-fam\n",
      "  --mind 0.01\n",
      "  --out EUR.QC\n",
      "  --write-snplist\n",
      "\n",
      "64401 MB RAM detected; reserving 32200 MB for main workspace.\n",
      "551892 variants loaded from .bim file.\n",
      "503 people (240 males, 263 females) loaded from .fam.\n",
      "14 people removed due to missing genotype data (--mind).\n",
      "IDs written to EUR.QC.irem .\n",
      "Using 1 thread (no multithreaded calculations invoked).\n",
      "Before main variant filters, 489 founders and 0 nonfounders present.\n",
      "Calculating allele frequencies... 10111213141516171819202122232425262728293031323334353637383940414243444546474849505152535455565758596061626364656667686970717273747576777879808182838485868788899091929394959697989 done.\n",
      "Warning: 1806 het. haploid genotypes present (see EUR.QC.hh ); many commands\n",
      "treat these as missing.\n",
      "Total genotyping rate in remaining samples is 0.999816.\n",
      "5353 variants removed due to missing genotype data (--geno).\n",
      "Warning: --hwe observation counts vary by more than 10%, due to the X\n",
      "chromosome.  You may want to use a less stringent --hwe p-value threshold for X\n",
      "chromosome variants.\n",
      "--hwe: 944 variants removed due to Hardy-Weinberg exact test.\n",
      "5061 variants removed due to minor allele threshold(s)\n",
      "(--maf/--max-maf/--mac/--max-mac).\n",
      "540534 variants and 489 people pass filters and QC.\n",
      "Note: No phenotypes present.\n",
      "List of variant IDs written to EUR.QC.snplist .\n",
      "--make-just-fam to EUR.QC.fam ... done.\n"
     ]
    }
   ],
   "source": [
    "plink \\\n",
    "    --bfile EUR \\\n",
    "    --maf 0.01 \\\n",
    "    --hwe 1e-6 \\\n",
    "    --geno 0.01 \\\n",
    "    --mind 0.01 \\\n",
    "    --write-snplist \\\n",
    "    --make-just-fam \\\n",
    "    --out EUR.QC"
   ]
  },
  {
   "cell_type": "code",
   "execution_count": 7,
   "metadata": {},
   "outputs": [
    {
     "name": "stdout",
     "output_type": "stream",
     "text": [
      "PLINK v1.90b6.17 64-bit (28 Apr 2020)          www.cog-genomics.org/plink/1.9/\n",
      "(C) 2005-2020 Shaun Purcell, Christopher Chang   GNU General Public License v3\n",
      "Logging to EUR.QC.log.\n",
      "Options in effect:\n",
      "  --bfile EUR\n",
      "  --extract EUR.QC.snplist\n",
      "  --indep-pairwise 200 50 0.25\n",
      "  --keep EUR.QC.fam\n",
      "  --out EUR.QC\n",
      "\n",
      "64401 MB RAM detected; reserving 32200 MB for main workspace.\n",
      "551892 variants loaded from .bim file.\n",
      "503 people (240 males, 263 females) loaded from .fam.\n",
      "--extract: 540534 variants remaining.\n",
      "--keep: 489 people remaining.\n",
      "Using 1 thread (no multithreaded calculations invoked).\n",
      "Before main variant filters, 489 founders and 0 nonfounders present.\n",
      "Calculating allele frequencies... 10111213141516171819202122232425262728293031323334353637383940414243444546474849505152535455565758596061626364656667686970717273747576777879808182838485868788899091929394959697989 done.\n",
      "Warning: 1273 het. haploid genotypes present (see EUR.QC.hh ); many commands\n",
      "treat these as missing.\n",
      "Total genotyping rate in remaining samples is 0.999919.\n",
      "540534 variants and 489 people pass filters and QC.\n",
      "Note: No phenotypes present.\n",
      "Pruned 20214 variants from chromosome 1, leaving 21127.\n",
      "Pruned 20984 variants from chromosome 2, leaving 20879.\n",
      "Pruned 17463 variants from chromosome 3, leaving 17812.\n",
      "Pruned 16344 variants from chromosome 4, leaving 16690.\n",
      "Pruned 15027 variants from chromosome 5, leaving 15981.\n",
      "Pruned 20731 variants from chromosome 6, leaving 15475.\n",
      "Pruned 14046 variants from chromosome 7, leaving 14606.\n",
      "Pruned 13289 variants from chromosome 8, leaving 13667.\n",
      "Pruned 10723 variants from chromosome 9, leaving 11951.\n",
      "Pruned 12722 variants from chromosome 10, leaving 13383.\n",
      "Pruned 13053 variants from chromosome 11, leaving 12666.\n",
      "Pruned 11654 variants from chromosome 12, leaving 12500.\n",
      "Pruned 8429 variants from chromosome 13, leaving 9609.\n",
      "Pruned 8072 variants from chromosome 14, leaving 8791.\n",
      "Pruned 7978 variants from chromosome 15, leaving 8470.\n",
      "Pruned 8808 variants from chromosome 16, leaving 9500.\n",
      "Pruned 8032 variants from chromosome 17, leaving 8724.\n",
      "Pruned 7204 variants from chromosome 18, leaving 8560.\n",
      "Pruned 7014 variants from chromosome 19, leaving 6726.\n",
      "Pruned 6341 variants from chromosome 20, leaving 7508.\n",
      "Pruned 3629 variants from chromosome 21, leaving 4280.\n",
      "Pruned 4085 variants from chromosome 22, leaving 4323.\n",
      "Pruned 16235 variants from chromosome 23, leaving 5229.\n",
      "Pruning complete.  272077 of 540534 variants removed.\n",
      "Marker lists written to EUR.QC.prune.in and EUR.QC.prune.out .\n"
     ]
    }
   ],
   "source": [
    "plink \\\n",
    "    --bfile EUR \\\n",
    "    --keep EUR.QC.fam \\\n",
    "    --extract EUR.QC.snplist \\\n",
    "    --indep-pairwise 200 50 0.25 \\\n",
    "    --out EUR.QC"
   ]
  },
  {
   "cell_type": "code",
   "execution_count": 8,
   "metadata": {},
   "outputs": [
    {
     "name": "stdout",
     "output_type": "stream",
     "text": [
      "PLINK v1.90b6.17 64-bit (28 Apr 2020)          www.cog-genomics.org/plink/1.9/\n",
      "(C) 2005-2020 Shaun Purcell, Christopher Chang   GNU General Public License v3\n",
      "Logging to EUR.QC.log.\n",
      "Options in effect:\n",
      "  --bfile EUR\n",
      "  --extract EUR.QC.prune.in\n",
      "  --het\n",
      "  --keep EUR.QC.fam\n",
      "  --out EUR.QC\n",
      "\n",
      "64401 MB RAM detected; reserving 32200 MB for main workspace.\n",
      "551892 variants loaded from .bim file.\n",
      "503 people (240 males, 263 females) loaded from .fam.\n",
      "--extract: 268457 variants remaining.\n",
      "--keep: 489 people remaining.\n",
      "Using 1 thread (no multithreaded calculations invoked).\n",
      "Before main variant filters, 489 founders and 0 nonfounders present.\n",
      "Calculating allele frequencies... 10111213141516171819202122232425262728293031323334353637383940414243444546474849505152535455565758596061626364656667686970717273747576777879808182838485868788899091929394959697989 done.\n",
      "Warning: 558 het. haploid genotypes present (see EUR.QC.hh ); many commands\n",
      "treat these as missing.\n",
      "Total genotyping rate in remaining samples is 0.999958.\n",
      "268457 variants and 489 people pass filters and QC.\n",
      "Note: No phenotypes present.\n",
      "--het: 263228 variants scanned, report written to EUR.QC.het .\n"
     ]
    }
   ],
   "source": [
    "plink \\\n",
    "    --bfile EUR \\\n",
    "    --extract EUR.QC.prune.in \\\n",
    "    --keep EUR.QC.fam \\\n",
    "    --het \\\n",
    "    --out EUR.QC"
   ]
  },
  {
   "cell_type": "code",
   "execution_count": 1,
   "metadata": {},
   "outputs": [
    {
     "name": "stderr",
     "output_type": "stream",
     "text": [
      "── \u001b[1mAttaching packages\u001b[22m ─────────────────────────────────────── tidyverse 1.2.1 ──\n",
      "\u001b[32m✔\u001b[39m \u001b[34mggplot2\u001b[39m 3.2.1     \u001b[32m✔\u001b[39m \u001b[34mpurrr  \u001b[39m 0.3.2\n",
      "\u001b[32m✔\u001b[39m \u001b[34mtibble \u001b[39m 2.1.3     \u001b[32m✔\u001b[39m \u001b[34mdplyr  \u001b[39m 0.8.3\n",
      "\u001b[32m✔\u001b[39m \u001b[34mtidyr  \u001b[39m 1.0.2     \u001b[32m✔\u001b[39m \u001b[34mstringr\u001b[39m 1.4.0\n",
      "\u001b[32m✔\u001b[39m \u001b[34mreadr  \u001b[39m 1.3.1     \u001b[32m✔\u001b[39m \u001b[34mforcats\u001b[39m 0.4.0\n",
      "── \u001b[1mConflicts\u001b[22m ────────────────────────────────────────── tidyverse_conflicts() ──\n",
      "\u001b[31m✖\u001b[39m \u001b[34mdplyr\u001b[39m::\u001b[32mfilter()\u001b[39m masks \u001b[34mstats\u001b[39m::filter()\n",
      "\u001b[31m✖\u001b[39m \u001b[34mdplyr\u001b[39m::\u001b[32mlag()\u001b[39m    masks \u001b[34mstats\u001b[39m::lag()\n"
     ]
    }
   ],
   "source": [
    "library(tidyverse)"
   ]
  },
  {
   "cell_type": "code",
   "execution_count": 2,
   "metadata": {},
   "outputs": [],
   "source": [
    "dat <- read.table(\"EUR.QC.het\", header=T) # Read in the EUR.het file, specify it has header\n",
    "m <- mean(dat$F) # Calculate the mean  \n",
    "s <- sd(dat$F) # Calculate the SD\n",
    "valid <- subset(dat, F <= m+3*s & F >= m-3*s) # Get any samples with F coefficient within 3 SD of the population mean\n",
    "write.table(valid[,c(1,2)], \"EUR.valid.sample\", quote=F, row.names=F) # print FID and IID for valid samples\n"
   ]
  },
  {
   "cell_type": "markdown",
   "metadata": {},
   "source": [
    "Run a sex check using plink"
   ]
  },
  {
   "cell_type": "code",
   "execution_count": 1,
   "metadata": {},
   "outputs": [
    {
     "name": "stdout",
     "output_type": "stream",
     "text": [
      "PLINK v1.90b6.17 64-bit (28 Apr 2020)          www.cog-genomics.org/plink/1.9/\n",
      "(C) 2005-2020 Shaun Purcell, Christopher Chang   GNU General Public License v3\n",
      "Logging to EUR.QC.log.\n",
      "Options in effect:\n",
      "  --bfile EUR\n",
      "  --check-sex\n",
      "  --extract EUR.QC.prune.in\n",
      "  --keep EUR.valid.sample\n",
      "  --out EUR.QC\n",
      "\n",
      "64401 MB RAM detected; reserving 32200 MB for main workspace.\n",
      "551892 variants loaded from .bim file.\n",
      "503 people (240 males, 263 females) loaded from .fam.\n",
      "--extract: 268457 variants remaining.\n",
      "--keep: 487 people remaining.\n",
      "Using 1 thread (no multithreaded calculations invoked).\n",
      "Before main variant filters, 487 founders and 0 nonfounders present.\n",
      "Calculating allele frequencies... 10111213141516171819202122232425262728293031323334353637383940414243444546474849505152535455565758596061626364656667686970717273747576777879808182838485868788899091929394959697989 done.\n",
      "Warning: 558 het. haploid genotypes present (see EUR.QC.hh ); many commands\n",
      "treat these as missing.\n",
      "Total genotyping rate in remaining samples is 0.999958.\n",
      "268457 variants and 487 people pass filters and QC.\n",
      "Note: No phenotypes present.\n",
      "--check-sex: 5229 Xchr and 0 Ychr variant(s) scanned, 4 problems detected.\n",
      "Report written to EUR.QC.sexcheck .\n"
     ]
    }
   ],
   "source": [
    "plink \\\n",
    "    --bfile EUR \\\n",
    "    --extract EUR.QC.prune.in \\\n",
    "    --keep EUR.valid.sample \\\n",
    "    --check-sex \\\n",
    "    --out EUR.QC"
   ]
  },
  {
   "cell_type": "code",
   "execution_count": 1,
   "metadata": {},
   "outputs": [],
   "source": [
    "# Read in file\n",
    "valid <- read.table(\"EUR.valid.sample\", header=T)\n",
    "dat <- read.table(\"EUR.QC.sexcheck\", header=T)\n",
    "valid <- subset(dat, STATUS==\"OK\" & FID %in% valid$FID)\n",
    "write.table(valid[,c(\"FID\", \"IID\")], \"EUR.QC.valid\", row.names=F, col.names=F, sep=\"\\t\", quote=F) \n"
   ]
  },
  {
   "cell_type": "markdown",
   "metadata": {},
   "source": [
    "Now we remove people who are related"
   ]
  },
  {
   "cell_type": "code",
   "execution_count": 1,
   "metadata": {},
   "outputs": [
    {
     "name": "stdout",
     "output_type": "stream",
     "text": [
      "PLINK v1.90b6.17 64-bit (28 Apr 2020)          www.cog-genomics.org/plink/1.9/\n",
      "(C) 2005-2020 Shaun Purcell, Christopher Chang   GNU General Public License v3\n",
      "Logging to EUR.QC.log.\n",
      "Options in effect:\n",
      "  --bfile EUR\n",
      "  --extract EUR.QC.prune.in\n",
      "  --keep EUR.QC.valid\n",
      "  --out EUR.QC\n",
      "  --rel-cutoff 0.125\n",
      "\n",
      "64401 MB RAM detected; reserving 32200 MB for main workspace.\n",
      "551892 variants loaded from .bim file.\n",
      "503 people (240 males, 263 females) loaded from .fam.\n",
      "--extract: 268457 variants remaining.\n",
      "--keep: 483 people remaining.\n",
      "Using up to 31 threads (change this with --threads).\n",
      "Before main variant filters, 483 founders and 0 nonfounders present.\n",
      "Calculating allele frequencies... 10111213141516171819202122232425262728293031323334353637383940414243444546474849505152535455565758596061626364656667686970717273747576777879808182838485868788899091929394959697989 done.\n",
      "Total genotyping rate in remaining samples is 0.999957.\n",
      "268457 variants and 483 people pass filters and QC (before --rel-cutoff).\n",
      "Note: No phenotypes present.\n",
      "Excluding 5229 variants on non-autosomes from relationship matrix calc.\n",
      "Relationship matrix calculation complete.\n",
      "0 people excluded by --rel-cutoff.\n",
      "Remaining sample IDs written to EUR.QC.rel.id .\n"
     ]
    }
   ],
   "source": [
    "plink \\\n",
    "    --bfile EUR \\\n",
    "    --extract EUR.QC.prune.in \\\n",
    "    --keep EUR.QC.valid \\\n",
    "    --rel-cutoff 0.125 \\\n",
    "    --out EUR.QC"
   ]
  },
  {
   "cell_type": "markdown",
   "metadata": {},
   "source": [
    "Final QC ed target data file"
   ]
  },
  {
   "cell_type": "code",
   "execution_count": 2,
   "metadata": {},
   "outputs": [
    {
     "name": "stdout",
     "output_type": "stream",
     "text": [
      "PLINK v1.90b6.17 64-bit (28 Apr 2020)          www.cog-genomics.org/plink/1.9/\n",
      "(C) 2005-2020 Shaun Purcell, Christopher Chang   GNU General Public License v3\n",
      "Logging to EUR.QC.log.\n",
      "Options in effect:\n",
      "  --bfile EUR\n",
      "  --extract EUR.QC.snplist\n",
      "  --keep EUR.QC.rel.id\n",
      "  --make-bed\n",
      "  --out EUR.QC\n",
      "\n",
      "64401 MB RAM detected; reserving 32200 MB for main workspace.\n",
      "551892 variants loaded from .bim file.\n",
      "503 people (240 males, 263 females) loaded from .fam.\n",
      "--extract: 540534 variants remaining.\n",
      "--keep: 483 people remaining.\n",
      "Using 1 thread (no multithreaded calculations invoked).\n",
      "Before main variant filters, 483 founders and 0 nonfounders present.\n",
      "Calculating allele frequencies... 10111213141516171819202122232425262728293031323334353637383940414243444546474849505152535455565758596061626364656667686970717273747576777879808182838485868788899091929394959697989 done.\n",
      "Total genotyping rate in remaining samples is 0.999918.\n",
      "540534 variants and 483 people pass filters and QC.\n",
      "Note: No phenotypes present.\n",
      "--make-bed to EUR.QC.bed + EUR.QC.bim + EUR.QC.fam ... 101112131415161718192021222324252627282930313233343536373839404142434445464748495051525354555657585960616263646566676869707172737475767778798081828384858687888990919293949596979899done.\n"
     ]
    }
   ],
   "source": [
    "plink \\\n",
    "    --bfile EUR \\\n",
    "    --make-bed \\\n",
    "    --keep EUR.QC.rel.id \\\n",
    "    --out EUR.QC \\\n",
    "    --extract EUR.QC.snplist "
   ]
  },
  {
   "cell_type": "markdown",
   "metadata": {},
   "source": [
    "We will now use PRSice-2 to do the rest of the work"
   ]
  },
  {
   "cell_type": "code",
   "execution_count": 3,
   "metadata": {},
   "outputs": [
    {
     "name": "stdout",
     "output_type": "stream",
     "text": [
      "PRSice 2.3.3 (2020-08-05) \n",
      "https://github.com/choishingwan/PRSice\n",
      "(C) 2016-2020 Shing Wan (Sam) Choi and Paul F. O'Reilly\n",
      "GNU General Public License v3\n",
      "If you use PRSice in any published work, please cite:\n",
      "Choi SW, O'Reilly PF.\n",
      "PRSice-2: Polygenic Risk Score Software for Biobank-Scale Data.\n",
      "GigaScience 8, no. 7 (July 1, 2019)\n",
      "2020-11-11 21:40:53\n",
      "./PRSice_linux \\\n",
      "    --a1 A1 \\\n",
      "    --a2 A2 \\\n",
      "    --bar-levels 0.001,0.05,0.1,0.2,0.3,0.4,0.5,1 \\\n",
      "    --base Height.QC.gz \\\n",
      "    --base-info INFO:0.8 \\\n",
      "    --base-maf MAF:0.01 \\\n",
      "    --binary-target F \\\n",
      "    --bp BP \\\n",
      "    --chr CHR \\\n",
      "    --clump-kb 250kb \\\n",
      "    --clump-p 1.000000 \\\n",
      "    --clump-r2 0.100000 \\\n",
      "    --cov EUR.cov \\\n",
      "    --interval 5e-05 \\\n",
      "    --lower 5e-08 \\\n",
      "    --num-auto 22 \\\n",
      "    --or  \\\n",
      "    --out EUR \\\n",
      "    --pheno EUR.height \\\n",
      "    --pvalue P \\\n",
      "    --seed 2799487938 \\\n",
      "    --snp SNP \\\n",
      "    --stat OR \\\n",
      "    --target EUR.QC \\\n",
      "    --thread 1 \\\n",
      "    --upper 0.5\n",
      "\n",
      "Initializing Genotype file: EUR.QC (bed) \n",
      "\n",
      "Start processing Height.QC \n",
      "================================================== \n",
      "\n",
      "Base file: Height.QC.gz \n",
      "GZ file detected. Header of file is: \n",
      "CHR\tBP\tSNP\tA1\tA2\tN\tSE\tP\tOR\tINFO\tMAF \n",
      "\n",
      "Reading 100.00%\n",
      "499617 variant(s) observed in base file, with: \n",
      "499617 total variant(s) included from base file \n",
      "\n",
      "Loading Genotype info from target \n",
      "================================================== \n",
      "\n",
      "483 people (232 male(s), 251 female(s)) observed \n",
      "483 founder(s) included \n",
      "\n",
      "\u001b[1;33mWarning: Currently not support haploid chromosome and sex \n",
      "         chromosomes \u001b[0m\n",
      "\n",
      "29254 variant(s) not found in previous data \n",
      "11 variant(s) with mismatch information \n",
      "489805 variant(s) included \n",
      "\n",
      "Phenotype file: EUR.height \n",
      "Column Name of Sample ID: FID+IID \n",
      "Note: If the phenotype file does not contain a header, the \n",
      "column name will be displayed as the Sample ID which is \n",
      "expected. \n",
      "\n",
      "There are a total of 1 phenotype to process \n",
      "\n",
      "Start performing clumping \n",
      "\n",
      "Clumping Progress: 100.00%\n",
      "Number of variant(s) after clumping : 193758 \n",
      "\n",
      "Processing the 1 th phenotype \n",
      "\n",
      "Height is a continuous phenotype \n",
      "11 sample(s) without phenotype \n",
      "472 sample(s) with valid phenotype \n",
      "\n",
      "Processing the covariate file: EUR.cov \n",
      "============================== \n",
      "\n",
      "Include Covariates: \n",
      "Name\tMissing\tNumber of levels \n",
      "Sex\t0\t- \n",
      "\n",
      "After reading the covariate file, 472 sample(s) included in \n",
      "the analysis \n",
      "\n",
      "\n",
      "Start Processing\n",
      "Processing 100.00%\n",
      "There are 1 region(s) with p-value less than 1e-5. Please \n",
      "note that these results are inflated due to the overfitting \n",
      "inherent in finding the best-fit PRS (but it's still best \n",
      "to find the best-fit PRS!). \n",
      "You can use the --perm option (see manual) to calculate an \n",
      "empirical P-value. \n",
      "\n",
      "Begin plotting\n",
      "Current Rscript version = 2.3.3\n",
      "Plotting Bar Plot\n",
      "Plotting the high resolution plot\n"
     ]
    }
   ],
   "source": [
    "Rscript PRSice.R \\\n",
    "    --prsice PRSice_linux \\\n",
    "    --base Height.QC.gz \\\n",
    "    --target EUR.QC \\\n",
    "    --binary-target F \\\n",
    "    --pheno EUR.height \\\n",
    "    --cov EUR.cov \\\n",
    "    --base-maf MAF:0.01 \\\n",
    "    --base-info INFO:0.8 \\\n",
    "    --stat OR \\\n",
    "    --or \\\n",
    "    --out EUR"
   ]
  },
  {
   "cell_type": "code",
   "execution_count": null,
   "metadata": {},
   "outputs": [],
   "source": []
  }
 ],
 "metadata": {
  "kernelspec": {
   "display_name": "Bash",
   "language": "bash",
   "name": "bash"
  },
  "language_info": {
   "codemirror_mode": "shell",
   "file_extension": ".sh",
   "mimetype": "text/x-sh",
   "name": "bash"
  }
 },
 "nbformat": 4,
 "nbformat_minor": 4
}

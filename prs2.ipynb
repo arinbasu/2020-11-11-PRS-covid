{
 "cells": [
  {
   "cell_type": "markdown",
   "metadata": {},
   "source": [
    "## What we want to do\n",
    "\n",
    "- Using the data from https://www.covid19hg.org/results/\n",
    "- We will test\n",
    "- if a polygenic risk score based on the snps identified\n",
    "- in these meta analyses\n",
    "- can explain\n",
    "- covid related other pathological processes\n",
    "\n",
    "## These will include:\n",
    "- covid related ARDS or respiratory failure\n",
    "- Kawasaki disease\n",
    "- Asthma\n",
    "- COPD\n",
    "- Heart disease\n",
    "- Hypertension\n",
    "\n",
    "## Which snps of this list are associated?\n",
    "\n",
    "## Do these snps predict hypertension?\n",
    "\n",
    "## If so, then\n",
    "- a possible pathology\n",
    "- search for a set of markers\n",
    "\n",
    "## What are we doing?\n",
    "- Download several SNP sets\n",
    "- QC them first\n",
    "- Identify GWAS study summary and genome phenome data\n",
    "- for individuals with those conditions (several candidate studies, challenge is to choose from them)\n",
    "- assess PRS"
   ]
  },
  {
   "cell_type": "code",
   "execution_count": 1,
   "metadata": {},
   "outputs": [
    {
     "name": "stdout",
     "output_type": "stream",
     "text": [
      "--2020-11-11 21:53:36--  https://storage.googleapis.com/covid19-hg-public/20200915/results/20201020/COVID19_HGI_A1_ALL_20201020.txt.gz\n",
      "Resolving storage.googleapis.com (storage.googleapis.com)... 216.58.199.48, 142.250.66.176, 172.217.25.144, ...\n",
      "Connecting to storage.googleapis.com (storage.googleapis.com)|216.58.199.48|:443... connected.\n",
      "HTTP request sent, awaiting response... 200 OK\n",
      "Length: 275778270 (263M) [text/plain]\n",
      "Saving to: ‘COVID19_HGI_A1_ALL_20201020.txt.gz’\n",
      "\n",
      "COVID19_HGI_A1_ALL_ 100%[===================>] 263.00M  59.5MB/s    in 8.2s    \n",
      "\n",
      "2020-11-11 21:53:46 (32.3 MB/s) - ‘COVID19_HGI_A1_ALL_20201020.txt.gz’ saved [275778270/275778270]\n",
      "\n"
     ]
    }
   ],
   "source": [
    "wget https://storage.googleapis.com/covid19-hg-public/20200915/results/20201020/COVID19_HGI_A1_ALL_20201020.txt.gz"
   ]
  },
  {
   "cell_type": "code",
   "execution_count": 2,
   "metadata": {},
   "outputs": [
    {
     "name": "stdout",
     "output_type": "stream",
     "text": [
      "#CHR\tPOS\tREF\tALT\tSNP\tall_meta_N\tall_inv_var_meta_beta\tall_inv_var_meta_sebeta\tall_inv_var_meta_p\tall_inv_var_het_p\tall_meta_sample_N\tall_meta_AF\trsid\n",
      "1\t727242\tG\tA\t1:727242:G:A\t2\t-5.2315e-01\t3.225e-01\t1.048e-01\t7.512e-01\t484\t1.350e-01\trs61769339\n",
      "1\t758351\tA\tG\t1:758351:A:G\t3\t-2.679e-01\t2.6782e-01\t3.172e-01\t3.847e-01\t805\t1.354e-01\trs12238997\n",
      "1\t758443\tG\tC\t1:758443:G:C\t2\t-5.4414e-01\t3.2158e-01\t9.063e-02\t6.331e-01\t484\t1.406e-01\trs61769351\n",
      "1\t782207\tG\tA\t1:782207:G:A\t2\t-5.9395e-01\t7.7865e-01\t4.456e-01\t1.279e-01\t527\t2.112e-02\tNA\n",
      "1\t785910\tG\tC\t1:785910:G:C\t2\t-6.5404e-01\t6.8638e-01\t3.406e-01\t1.12e-01\t599\t3.044e-02\trs12565286\n",
      "1\t794299\tC\tG\t1:794299:C:G\t2\t2.1900e-01\t2.8121e-01\t4.361e-01\t2.315e-01\t599\t7.737e-01\trs4951859\n",
      "1\t794707\tT\tC\t1:794707:T:C\t3\t-4.2298e-01\t4.3048e-01\t3.258e-01\t3.629e-01\t805\t4.679e-02\trs148120343\n",
      "1\t796338\tT\tC\t1:796338:T:C\t3\t-2.7316e-01\t2.5833e-01\t2.903e-01\t4.385e-01\t805\t1.432e-01\tNA\n",
      "1\t796652\tA\tC\t1:796652:A:C\t2\t-4.8701e-01\t3.1378e-01\t1.206e-01\t8.098e-01\t484\t1.462e-01\trs61770163\n",
      "\n",
      "gzip: stdout: Broken pipe\n"
     ]
    }
   ],
   "source": [
    "gunzip -c COVID19_HGI_A1_ALL_20201020.txt.gz | head"
   ]
  },
  {
   "cell_type": "markdown",
   "metadata": {},
   "source": [
    "CHR\tBP\tSNP\tA1\tA2\tN\tSE\tP\tOR\tINFO\tMAF\n",
    "#CHR\tPOS\tREF\tALT\tSNP\tall_meta_N\tall_inv_var_meta_beta\tall_inv_var_meta_sebeta\tall_inv_var_meta_p\tall_inv_var_het_p\tall_meta_sample_N\tall_meta_AF\trsid"
   ]
  }
 ],
 "metadata": {
  "kernelspec": {
   "display_name": "Bash",
   "language": "bash",
   "name": "bash"
  },
  "language_info": {
   "codemirror_mode": "shell",
   "file_extension": ".sh",
   "mimetype": "text/x-sh",
   "name": "bash"
  }
 },
 "nbformat": 4,
 "nbformat_minor": 4
}
